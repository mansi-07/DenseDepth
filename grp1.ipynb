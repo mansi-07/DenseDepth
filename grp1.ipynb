{
 "cells": [
  {
   "cell_type": "code",
   "execution_count": 1,
   "metadata": {},
   "outputs": [],
   "source": [
    "import numpy as np\n",
    "import cv2\n",
    "import time"
   ]
  },
  {
   "cell_type": "code",
   "execution_count": 2,
   "metadata": {},
   "outputs": [],
   "source": [
    "#reading images \n",
    "img1=cv2.imread('i1.jpg',1)\n",
    "img2=cv2.imread('i2.jpg',1)"
   ]
  },
  {
   "cell_type": "code",
   "execution_count": 3,
   "metadata": {},
   "outputs": [],
   "source": [
    "#loading classes and model\n",
    "classesFile = 'coco.names'\n",
    "with open(classesFile) as f:\n",
    "    classes=[line.strip() for line in f]\n",
    "    \n",
    "modelConfig = 'yolov3.cfg'\n",
    "modelWeights = 'yolov3.weights'\n",
    "\n",
    "net = cv2.dnn.readNetFromDarknet(modelConfig , modelWeights)"
   ]
  },
  {
   "cell_type": "code",
   "execution_count": 4,
   "metadata": {},
   "outputs": [],
   "source": [
    "#initializing parameters\n",
    "confThreshold = 0.5\n",
    "nmsThreshold = 0.3\n",
    "colours = np.random.randint(0, 255, size=(len(classes), 3), dtype='uint8')"
   ]
  },
  {
   "cell_type": "code",
   "execution_count": 5,
   "metadata": {},
   "outputs": [],
   "source": [
    "#getting ending layers\n",
    "def getOutputsName(net):\n",
    "    layerNames = net.getLayerNames()\n",
    "    return [layerNames[i[0] - 1] for i in net.getUnconnectedOutLayers()]"
   ]
  },
  {
   "cell_type": "code",
   "execution_count": 6,
   "metadata": {},
   "outputs": [],
   "source": [
    "#converting image to an input blob\n",
    "blob1 = cv2.dnn.blobFromImage(img1, 1/255.0, (416,416), swapRB = True, crop=False)\n",
    "\n",
    "blob2 = cv2.dnn.blobFromImage(img2, 1/255.0, (416,416), swapRB = True, crop=False)"
   ]
  },
  {
   "cell_type": "code",
   "execution_count": 12,
   "metadata": {},
   "outputs": [
    {
     "name": "stdout",
     "output_type": "stream",
     "text": [
      "Current frame took 0.46019 seconds\n",
      "Current frame took 0.40705 seconds\n"
     ]
    }
   ],
   "source": [
    "img=img1\n",
    "blob=blob1\n",
    "objects=[]\n",
    "for t in range(2):\n",
    "    #implementing forward pass\n",
    "    net.setInput(blob)\n",
    "    start = time.time()\n",
    "    outputFromNet = net.forward(getOutputsName(net))  \n",
    "    end = time.time()\n",
    "    print('Current frame took {:.5f} seconds'.format(end - start))\n",
    "    \n",
    "    #getting bounding boxes\n",
    "    bounding_boxes = []\n",
    "    confidences = []\n",
    "    class_numbers = []\n",
    "    \n",
    "    for result in outputFromNet:\n",
    "        for detectedObjects in result:\n",
    "            scores = detectedObjects[5:]\n",
    "            classCurrent = np.argmax(scores)\n",
    "            confidenceCurrent = scores[classCurrent]\n",
    "            \n",
    "            #removing boxes with confidence score less than confThreshold\n",
    "            if confidenceCurrent > confThreshold:\n",
    "                imgHeight = img.shape[0]\n",
    "                imgWidth = img.shape[1]\n",
    "                x_center = int(detectedObjects[0] * imgWidth)\n",
    "                y_center = int(detectedObjects[1] * imgHeight)\n",
    "                box_width = int(detectedObjects[2] * imgWidth)\n",
    "                box_height = int(detectedObjects[3] * imgHeight)\n",
    "\n",
    "                class_numbers.append(classCurrent)\n",
    "                confidences.append(float(confidenceCurrent))\n",
    "                bounding_boxes.append([x_center, y_center, box_width, box_height])\n",
    "\n",
    "    #performing non maximum suppression \n",
    "    results = cv2.dnn.NMSBoxes(bounding_boxes, confidences, confThreshold, nmsThreshold)\n",
    "    \n",
    "    #drawing predicted bounding boxes\n",
    "    if len(results) >0:\n",
    "        o=[]\n",
    "        for i in results.flatten():\n",
    "            obj = classes[int(class_numbers[i])]\n",
    "            o.append(obj)\n",
    "\n",
    "            x_center, y_center = bounding_boxes[i][0], bounding_boxes[i][1]\n",
    "            box_width, box_height = bounding_boxes[i][2], bounding_boxes[i][3]\n",
    "            colour_box_current = colours[class_numbers[i]].tolist()\n",
    "            cv2.circle(img, (x_center, y_center),\n",
    "                          (max(box_width, box_height)//2),\n",
    "                          colour_box_current, 2)\n",
    "            text_box_current = '{}: {:.4f}'.format(classes[int(class_numbers[i])],confidences[i])\n",
    "            cv2.putText(img, text_box_current, (x_center - (box_width//2), y_center - (box_height//2) - 5),\n",
    "                        cv2.FONT_HERSHEY_SIMPLEX, 0.5, colour_box_current, 2)\n",
    "        objects.append(o)\n",
    "    img=img2\n",
    "    blob=blob2\n"
   ]
  },
  {
   "cell_type": "code",
   "execution_count": 13,
   "metadata": {},
   "outputs": [
    {
     "name": "stdout",
     "output_type": "stream",
     "text": [
      "Objects detected are: chair, teddy bear\n"
     ]
    }
   ],
   "source": [
    "#printing output\n",
    "final_list = list(set().union(objects[0], objects[1]))\n",
    "print('Objects detected are: ' + ', '.join(map(str,final_list)))\n",
    "    \n",
    "cv2.imshow('img1', img1)\n",
    "cv2.imshow('img2', img2)\n",
    "if cv2.waitKey(0) & 0xFF == ord('q'):\n",
    "    cv2.destroyAllWindows"
   ]
  },
  {
   "cell_type": "code",
   "execution_count": null,
   "metadata": {},
   "outputs": [],
   "source": []
  }
 ],
 "metadata": {
  "kernelspec": {
   "display_name": "Python 3",
   "language": "python",
   "name": "python3"
  },
  "language_info": {
   "codemirror_mode": {
    "name": "ipython",
    "version": 3
   },
   "file_extension": ".py",
   "mimetype": "text/x-python",
   "name": "python",
   "nbconvert_exporter": "python",
   "pygments_lexer": "ipython3",
   "version": "3.7.6"
  }
 },
 "nbformat": 4,
 "nbformat_minor": 4
}
